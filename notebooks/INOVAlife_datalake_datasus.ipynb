{
  "nbformat": 4,
  "nbformat_minor": 0,
  "metadata": {
    "colab": {
      "name": "INOVAlife-datalake-datasus.ipynb",
      "provenance": [],
      "collapsed_sections": []
    },
    "kernelspec": {
      "name": "python3",
      "display_name": "Python 3"
    },
    "language_info": {
      "name": "python"
    }
  },
  "cells": [
    {
      "cell_type": "code",
      "metadata": {
        "id": "4Wx3bDqhe563"
      },
      "source": [
        "# Notebook com códigos contendo exemplos de uso do DataLake INOVAlife\n",
        "\n",
        "# Mais informações em: https://github.com/marcelotournier/inovalife-data/blob/master/README.md"
      ],
      "execution_count": null,
      "outputs": []
    },
    {
      "cell_type": "code",
      "metadata": {
        "colab": {
          "base_uri": "https://localhost:8080/"
        },
        "id": "i6zye2BHd5Nq",
        "outputId": "727deb29-cbc7-4eeb-819c-7f655a59afee"
      },
      "source": [
        "# Instalar o cliente de acesso ao Data Lake:\n",
        "!pip install git+https://github.com/marcelotournier/inovalife-data.git --quiet"
      ],
      "execution_count": null,
      "outputs": [
        {
          "output_type": "stream",
          "text": [
            "\u001b[K     |████████████████████████████████| 212.4MB 64kB/s \n",
            "\u001b[K     |████████████████████████████████| 204kB 19.6MB/s \n",
            "\u001b[?25h  Building wheel for inovalife-data (setup.py) ... \u001b[?25l\u001b[?25hdone\n",
            "  Building wheel for pyspark (setup.py) ... \u001b[?25l\u001b[?25hdone\n"
          ],
          "name": "stdout"
        }
      ]
    },
    {
      "cell_type": "code",
      "metadata": {
        "id": "-L-kx_AEeALy"
      },
      "source": [
        "from inovalife_data import DataLakeClient"
      ],
      "execution_count": null,
      "outputs": []
    },
    {
      "cell_type": "markdown",
      "metadata": {
        "id": "Zl7Y8G-VeDSY"
      },
      "source": [
        "Para conseguir as chaves de acesso, envie um email para contato@inova.life com o texto abaixo:\n",
        "\n",
        "```\n",
        "Solicito chaves de acesso para o datalake \"datasus\" da INOVAlife.\n",
        "\n",
        "Concordo em não compartilhar com ninguém as chaves de acesso ou qualquer outro material marcado como confidencial oferecido pela INOVAlife, por penalidades da lei.\n",
        "\n",
        "Estou ciente e concordo que a INOVAlife colete informações como registros de acesso aos dados, utilizando como identificador de acesso as referidas chaves, endereços de IP ou quaisquer outros metadados disponíveis. \n",
        "\n",
        "Do mesmo modo, estou ciente e concordo que as informações sobre acesso serão para uso exclusivo de controle de segurança e não serão vendidas, compartilhadas ou reutilizadas em nenhum outro produto ou serviço, além deste.\n",
        "```\n",
        "\n",
        "Vamos avaliar a solicitação e retornaremos o contato."
      ]
    },
    {
      "cell_type": "code",
      "metadata": {
        "id": "IHuEp3NZeCQH"
      },
      "source": [
        "# Substitua as strings vazias pelas chaves de acesso:\n",
        "access_key = \"\"\n",
        "secret_key = \"\""
      ],
      "execution_count": null,
      "outputs": []
    },
    {
      "cell_type": "code",
      "metadata": {
        "id": "2cMfMR-HeChf"
      },
      "source": [
        "data = DataLakeClient(access_key, secret_key)"
      ],
      "execution_count": null,
      "outputs": []
    },
    {
      "cell_type": "code",
      "metadata": {
        "id": "9os9PZfweKlH"
      },
      "source": [
        "data.carregar_tabela(\"SINASC\",\"DN\",\"1996\")"
      ],
      "execution_count": null,
      "outputs": []
    },
    {
      "cell_type": "code",
      "metadata": {
        "id": "QlY47Pj5eMGv"
      },
      "source": [
        "consulta = data.sql(\"select contador,IDADEMAE,PESO,UF from tabela_SINASC_DN_1996\")"
      ],
      "execution_count": null,
      "outputs": []
    },
    {
      "cell_type": "code",
      "metadata": {
        "id": "JA36rXwweaiR"
      },
      "source": [
        "consulta.show()"
      ],
      "execution_count": null,
      "outputs": []
    },
    {
      "cell_type": "code",
      "metadata": {
        "id": "ns0Ca7ygeb7F"
      },
      "source": [
        "consulta.count()"
      ],
      "execution_count": null,
      "outputs": []
    },
    {
      "cell_type": "code",
      "metadata": {
        "id": "w-dWHRhheQQ7"
      },
      "source": [
        "df = consulta.toPandas()"
      ],
      "execution_count": null,
      "outputs": []
    },
    {
      "cell_type": "code",
      "metadata": {
        "id": "9_7ZzF72eRmv"
      },
      "source": [
        ""
      ],
      "execution_count": null,
      "outputs": []
    }
  ]
}